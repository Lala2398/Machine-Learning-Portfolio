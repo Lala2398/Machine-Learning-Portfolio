{
  "nbformat": 4,
  "nbformat_minor": 0,
  "metadata": {
    "colab": {
      "provenance": []
    },
    "kernelspec": {
      "name": "python3",
      "display_name": "Python 3"
    },
    "language_info": {
      "name": "python"
    }
  },
  "cells": [
    {
      "cell_type": "markdown",
      "source": [
        "Data : https://video.udacity-data.com/topher/2021/April/607625cb_gift-costs/gift-costs.txt"
      ],
      "metadata": {
        "id": "TqRxPM_qeMCy"
      }
    },
    {
      "cell_type": "code",
      "execution_count": 10,
      "metadata": {
        "id": "lwZuSLFCcrs1"
      },
      "outputs": [],
      "source": [
        "import time\n",
        "import numpy as np"
      ]
    },
    {
      "cell_type": "code",
      "source": [
        "with open('/content/gift-costs.csv') as f:\n",
        "    gift_costs = f.read().split('\\n')"
      ],
      "metadata": {
        "id": "25lekr6Lc2fm"
      },
      "execution_count": 11,
      "outputs": []
    },
    {
      "cell_type": "code",
      "source": [
        "gift_costs = np.array(gift_costs).astype(int)  # convert string to int\n"
      ],
      "metadata": {
        "id": "NcsTXlnyc-i9"
      },
      "execution_count": 12,
      "outputs": []
    },
    {
      "cell_type": "code",
      "source": [
        "start = time.time()"
      ],
      "metadata": {
        "id": "ubKVNbtCdC7I"
      },
      "execution_count": 13,
      "outputs": []
    },
    {
      "cell_type": "code",
      "source": [
        "total_price = 0\n",
        "for cost in gift_costs:\n",
        "    if cost < 25:\n",
        "        total_price += cost * 1.08  # add cost after tax\n"
      ],
      "metadata": {
        "id": "K5TmmXsOdE9B"
      },
      "execution_count": 14,
      "outputs": []
    },
    {
      "cell_type": "code",
      "source": [
        "print(total_price)\n",
        "print('Duration: {} seconds'.format(time.time() - start))"
      ],
      "metadata": {
        "colab": {
          "base_uri": "https://localhost:8080/"
        },
        "id": "djXtuN70dJkE",
        "outputId": "5bdd66e1-f40e-4a4c-bf98-9eb21e21792d"
      },
      "execution_count": 15,
      "outputs": [
        {
          "output_type": "stream",
          "name": "stdout",
          "text": [
            "32765421.23999867\n",
            "Duration: 8.169780254364014 seconds\n"
          ]
        }
      ]
    },
    {
      "cell_type": "code",
      "source": [
        "## Refactor Code\n",
        "\n",
        "start = time.time()\n",
        "\n",
        "total_price = (gift_costs[gift_costs < 25]).sum() * 1.08\n",
        "print(total_price)"
      ],
      "metadata": {
        "colab": {
          "base_uri": "https://localhost:8080/"
        },
        "id": "6on4tMj6dMiE",
        "outputId": "d6ee4f71-6747-4f7a-ea75-69b4314a623f"
      },
      "execution_count": 16,
      "outputs": [
        {
          "output_type": "stream",
          "name": "stdout",
          "text": [
            "32765421.240000002\n"
          ]
        }
      ]
    },
    {
      "cell_type": "code",
      "source": [
        "print('Duration: {} seconds'.format(time.time() - start))"
      ],
      "metadata": {
        "colab": {
          "base_uri": "https://localhost:8080/"
        },
        "id": "YeqE6n8FdTho",
        "outputId": "24045285-d345-4712-b481-849e79fdd491"
      },
      "execution_count": 17,
      "outputs": [
        {
          "output_type": "stream",
          "name": "stdout",
          "text": [
            "Duration: 0.08860492706298828 seconds\n"
          ]
        }
      ]
    }
  ]
}