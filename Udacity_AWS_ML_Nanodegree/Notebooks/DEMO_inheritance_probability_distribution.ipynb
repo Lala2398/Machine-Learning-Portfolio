{
  "cells": [
    {
      "cell_type": "markdown",
      "metadata": {
        "id": "OSVzLH31mkTo"
      },
      "source": [
        "# Inheritance with the Gaussian Class\n",
        "\n",
        "To give another example of inheritance, take a look at the code in this Jupyter notebook. The Gaussian distribution code is refactored into a generic Distribution class and a Gaussian distribution class. Read through the code in this Jupyter notebook to see how the code works.\n",
        "\n",
        "The Distribution class takes care of the initialization and the read_data_file method. Then the rest of the Gaussian code is in the Gaussian class. You'll later use this Distribution class in an exercise at the end of the lesson.\n",
        "\n",
        "Run the code in each cell of this Jupyter notebook. This is a code demonstration, so you do not need to write any code."
      ]
    },
    {
      "cell_type": "code",
      "source": [
        "import pandas as pd\n",
        "import numpy as np\n",
        "import matplotlib.pyplot as plt"
      ],
      "metadata": {
        "id": "hq8gTQgfnBhY"
      },
      "execution_count": 7,
      "outputs": []
    },
    {
      "cell_type": "code",
      "execution_count": 8,
      "metadata": {
        "id": "uFJWPx-RmkTs"
      },
      "outputs": [],
      "source": [
        "class Distribution:\n",
        "    \n",
        "    def __init__(self, mu=0, sigma=1):\n",
        "    \n",
        "        \"\"\" Generic distribution class for calculating and \n",
        "        visualizing a probability distribution.\n",
        "    \n",
        "        Attributes:\n",
        "            mean (float) representing the mean value of the distribution\n",
        "            stdev (float) representing the standard deviation of the distribution\n",
        "            data_list (list of floats) a list of floats extracted from the data file\n",
        "            \"\"\"\n",
        "        \n",
        "        self.mean = mu\n",
        "        self.stdev = sigma\n",
        "        self.data = []\n",
        "\n",
        "\n",
        "    def read_data_file(self, file_name):\n",
        "    \n",
        "        \"\"\"Function to read in data from a txt file. The txt file should have\n",
        "        one number (float) per line. The numbers are stored in the data attribute.\n",
        "                \n",
        "        Args:\n",
        "            file_name (string): name of a file to read from\n",
        "        \n",
        "        Returns:\n",
        "            None\n",
        "        \n",
        "        \"\"\"\n",
        "            \n",
        "        with open(file_name) as file:\n",
        "            data_list = []\n",
        "            line = file.readline()\n",
        "            while line:\n",
        "                data_list.append(int(line))\n",
        "                line = file.readline()\n",
        "        file.close()\n",
        "    \n",
        "        self.data = data_list"
      ]
    },
    {
      "cell_type": "code",
      "execution_count": 9,
      "metadata": {
        "id": "2m3tzl5XmkTu"
      },
      "outputs": [],
      "source": [
        "import math\n",
        "import matplotlib.pyplot as plt\n",
        "\n",
        "class Gaussian(Distribution):\n",
        "    \"\"\" Gaussian distribution class for calculating and \n",
        "    visualizing a Gaussian distribution.\n",
        "    \n",
        "    Attributes:\n",
        "        mean (float) representing the mean value of the distribution\n",
        "        stdev (float) representing the standard deviation of the distribution\n",
        "        data_list (list of floats) a list of floats extracted from the data file\n",
        "            \n",
        "    \"\"\"\n",
        "    def __init__(self, mu=0, sigma=1):\n",
        "        \n",
        "        Distribution.__init__(self, mu, sigma)\n",
        "    \n",
        "        \n",
        "    \n",
        "    def calculate_mean(self):\n",
        "    \n",
        "        \"\"\"Function to calculate the mean of the data set.\n",
        "        \n",
        "        Args: \n",
        "            None\n",
        "        \n",
        "        Returns: \n",
        "            float: mean of the data set\n",
        "    \n",
        "        \"\"\"\n",
        "                    \n",
        "        avg = 1.0 * sum(self.data) / len(self.data)\n",
        "        \n",
        "        self.mean = avg\n",
        "        \n",
        "        return self.mean\n",
        "\n",
        "\n",
        "\n",
        "    def calculate_stdev(self, sample=True):\n",
        "\n",
        "        \"\"\"Function to calculate the standard deviation of the data set.\n",
        "        \n",
        "        Args: \n",
        "            sample (bool): whether the data represents a sample or population\n",
        "        \n",
        "        Returns: \n",
        "            float: standard deviation of the data set\n",
        "    \n",
        "        \"\"\"\n",
        "\n",
        "        if sample:\n",
        "            n = len(self.data) - 1\n",
        "        else:\n",
        "            n = len(self.data)\n",
        "    \n",
        "        mean = self.calculate_mean()\n",
        "    \n",
        "        sigma = 0\n",
        "    \n",
        "        for d in self.data:\n",
        "            sigma += (d - mean) ** 2\n",
        "        \n",
        "        sigma = math.sqrt(sigma / n)\n",
        "    \n",
        "        self.stdev = sigma\n",
        "        \n",
        "        return self.stdev\n",
        "        \n",
        "        \n",
        "        \n",
        "    def plot_histogram(self):\n",
        "        \"\"\"Function to output a histogram of the instance variable data using \n",
        "        matplotlib pyplot library.\n",
        "        \n",
        "        Args:\n",
        "            None\n",
        "            \n",
        "        Returns:\n",
        "            None\n",
        "        \"\"\"\n",
        "        plt.hist(self.data)\n",
        "        plt.title('Histogram of Data')\n",
        "        plt.xlabel('data')\n",
        "        plt.ylabel('count')\n",
        "        \n",
        "        \n",
        "        \n",
        "    def pdf(self, x):\n",
        "        \"\"\"Probability density function calculator for the gaussian distribution.\n",
        "        \n",
        "        Args:\n",
        "            x (float): point for calculating the probability density function\n",
        "            \n",
        "        \n",
        "        Returns:\n",
        "            float: probability density function output\n",
        "        \"\"\"\n",
        "        \n",
        "        return (1.0 / (self.stdev * math.sqrt(2*math.pi))) * math.exp(-0.5*((x - self.mean) / self.stdev) ** 2)\n",
        "        \n",
        "\n",
        "    def plot_histogram_pdf(self, n_spaces = 50):\n",
        "\n",
        "        \"\"\"Function to plot the normalized histogram of the data and a plot of the \n",
        "        probability density function along the same range\n",
        "        \n",
        "        Args:\n",
        "            n_spaces (int): number of data points \n",
        "        \n",
        "        Returns:\n",
        "            list: x values for the pdf plot\n",
        "            list: y values for the pdf plot\n",
        "            \n",
        "        \"\"\"\n",
        "        \n",
        "        mu = self.mean\n",
        "        sigma = self.stdev\n",
        "\n",
        "        min_range = min(self.data)\n",
        "        max_range = max(self.data)\n",
        "        \n",
        "         # calculates the interval between x values\n",
        "        interval = 1.0 * (max_range - min_range) / n_spaces\n",
        "\n",
        "        x = []\n",
        "        y = []\n",
        "        \n",
        "        # calculate the x values to visualize\n",
        "        for i in range(n_spaces):\n",
        "            tmp = min_range + interval*i\n",
        "            x.append(tmp)\n",
        "            y.append(self.pdf(tmp))\n",
        "\n",
        "        # make the plots\n",
        "        fig, axes = plt.subplots(2,sharex=True)\n",
        "        fig.subplots_adjust(hspace=.5)\n",
        "        axes[0].hist(self.data, density=True)\n",
        "        axes[0].set_title('Normed Histogram of Data')\n",
        "        axes[0].set_ylabel('Density')\n",
        "\n",
        "        axes[1].plot(x, y)\n",
        "        axes[1].set_title('Normal Distribution for \\n Sample Mean and Sample Standard Deviation')\n",
        "        axes[0].set_ylabel('Density')\n",
        "        plt.show()\n",
        "\n",
        "        return x, y\n",
        "        \n",
        "    def __add__(self, other):\n",
        "        \n",
        "        \"\"\"Function to add together two Gaussian distributions\n",
        "        \n",
        "        Args:\n",
        "            other (Gaussian): Gaussian instance\n",
        "            \n",
        "        Returns:\n",
        "            Gaussian: Gaussian distribution\n",
        "            \n",
        "        \"\"\"\n",
        "        \n",
        "        result = Gaussian()\n",
        "        result.mean = self.mean + other.mean\n",
        "        result.stdev = math.sqrt(self.stdev ** 2 + other.stdev ** 2)\n",
        "        \n",
        "        return result\n",
        "        \n",
        "        \n",
        "    def __repr__(self):\n",
        "    \n",
        "        \"\"\"Function to output the characteristics of the Gaussian instance\n",
        "        \n",
        "        Args:\n",
        "            None\n",
        "        \n",
        "        Returns:\n",
        "            string: characteristics of the Gaussian\n",
        "        \n",
        "        \"\"\"\n",
        "        \n",
        "        return \"mean {}, standard deviation {}\".format(self.mean, self.stdev)"
      ]
    },
    {
      "cell_type": "code",
      "execution_count": 10,
      "metadata": {
        "colab": {
          "base_uri": "https://localhost:8080/"
        },
        "id": "7_L8nfFVmkTv",
        "outputId": "39e1e536-0765-4905-8c8a-bc1c196bc75d"
      },
      "outputs": [
        {
          "output_type": "execute_result",
          "data": {
            "text/plain": [
              "92.87459776004906"
            ]
          },
          "metadata": {},
          "execution_count": 10
        }
      ],
      "source": [
        "# initialize two gaussian distributions\n",
        "gaussian_one = Gaussian(25, 3)\n",
        "gaussian_two = Gaussian(30, 2)\n",
        "\n",
        "# initialize a third gaussian distribution reading in a data efile\n",
        "gaussian_three = Gaussian()\n",
        "gaussian_three.read_data_file('numbers.txt')\n",
        "gaussian_three.calculate_mean()\n",
        "gaussian_three.calculate_stdev()"
      ]
    },
    {
      "cell_type": "code",
      "execution_count": 11,
      "metadata": {
        "colab": {
          "base_uri": "https://localhost:8080/"
        },
        "id": "iRFmv9OjmkTw",
        "outputId": "8d07b976-54de-4496-b4f7-d25ac9b4ca26"
      },
      "outputs": [
        {
          "output_type": "stream",
          "name": "stdout",
          "text": [
            "25\n",
            "30\n",
            "3\n",
            "2\n",
            "78.0909090909091\n",
            "92.87459776004906\n"
          ]
        }
      ],
      "source": [
        "# print out the mean and standard deviations\n",
        "print(gaussian_one.mean)\n",
        "print(gaussian_two.mean)\n",
        "\n",
        "print(gaussian_one.stdev)\n",
        "print(gaussian_two.stdev)\n",
        "\n",
        "print(gaussian_three.mean)\n",
        "print(gaussian_three.stdev)"
      ]
    },
    {
      "cell_type": "code",
      "execution_count": 12,
      "metadata": {
        "colab": {
          "base_uri": "https://localhost:8080/",
          "height": 1000
        },
        "id": "GK2VvPbOmkTx",
        "outputId": "9e12bb9b-b32b-4833-e92b-b8f7bd8dedd2"
      },
      "outputs": [
        {
          "output_type": "display_data",
          "data": {
            "text/plain": [
              "<Figure size 432x288 with 2 Axes>"
            ],
            "image/png": "[encoded data removed]"
          },
          "metadata": {
            "needs_background": "light"
          }
        },
        {
          "output_type": "execute_result",
          "data": {
            "text/plain": [
              "([1.0,\n",
              "  7.58,\n",
              "  14.16,\n",
              "  20.740000000000002,\n",
              "  27.32,\n",
              "  33.9,\n",
              "  40.480000000000004,\n",
              "  47.06,\n",
              "  53.64,\n",
              "  60.22,\n",
              "  66.8,\n",
              "  73.38,\n",
              "  79.96000000000001,\n",
              "  86.54,\n",
              "  93.12,\n",
              "  99.7,\n",
              "  106.28,\n",
              "  112.86,\n",
              "  119.44,\n",
              "  126.02,\n",
              "  132.6,\n",
              "  139.18,\n",
              "  145.76,\n",
              "  152.34,\n",
              "  158.92000000000002,\n",
              "  165.5,\n",
              "  172.08,\n",
              "  178.66,\n",
              "  185.24,\n",
              "  191.82,\n",
              "  198.4,\n",
              "  204.98,\n",
              "  211.56,\n",
              "  218.14000000000001,\n",
              "  224.72,\n",
              "  231.3,\n",
              "  237.88,\n",
              "  244.46,\n",
              "  251.04,\n",
              "  257.62,\n",
              "  264.2,\n",
              "  270.78000000000003,\n",
              "  277.36,\n",
              "  283.94,\n",
              "  290.52,\n",
              "  297.1,\n",
              "  303.68,\n",
              "  310.26,\n",
              "  316.84000000000003,\n",
              "  323.42],\n",
              " [0.0030436941280150395,\n",
              "  0.0032199635775976665,\n",
              "  0.003389385629106679,\n",
              "  0.0035498588092989685,\n",
              "  0.0036993144412822716,\n",
              "  0.0038357605437130374,\n",
              "  0.003957325730527453,\n",
              "  0.004062301768846044,\n",
              "  0.004149183447609647,\n",
              "  0.004216704458941581,\n",
              "  0.004263868097796145,\n",
              "  0.004289971740008139,\n",
              "  0.004294624258609417,\n",
              "  0.004277755775037969,\n",
              "  0.0042396194054553134,\n",
              "  0.004180784941175556,\n",
              "  0.004102124683731816,\n",
              "  0.004004791926750454,\n",
              "  0.0038901928264981145,\n",
              "  0.003759952619833299,\n",
              "  0.003615877323227138,\n",
              "  0.0034599121726495113,\n",
              "  0.003294098137140098,\n",
              "  0.003120527857220398,\n",
              "  0.002941302324101445,\n",
              "  0.002758489530620572,\n",
              "  0.002574086195982893,\n",
              "  0.002389983501515617,\n",
              "  0.002207937582926008,\n",
              "  0.0020295453159204953,\n",
              "  0.001856225716626904,\n",
              "  0.0016892070658496405,\n",
              "  0.0015295196657229566,\n",
              "  0.001377993956504496,\n",
              "  0.0012352635662074894,\n",
              "  0.0011017727408934497,\n",
              "  0.000977787511300198,\n",
              "  0.0008634098928327342,\n",
              "  0.0007585943899081439,\n",
              "  0.0006631660798856831,\n",
              "  0.0005768395828224327,\n",
              "  0.0004992382767035347,\n",
              "  0.0004299131886951978,\n",
              "  0.0003683610762264406,\n",
              "  0.0003140413022577166,\n",
              "  0.00026639120219446516,\n",
              "  0.00022483973132287702,\n",
              "  0.00018881926781767698,\n",
              "  0.00015777552448225903,\n",
              "  0.0001311755903990334])"
            ]
          },
          "metadata": {},
          "execution_count": 12
        }
      ],
      "source": [
        "# plot histogram of gaussian three\n",
        "gaussian_three.plot_histogram_pdf()"
      ]
    },
    {
      "cell_type": "code",
      "execution_count": 13,
      "metadata": {
        "colab": {
          "base_uri": "https://localhost:8080/"
        },
        "id": "BbCSjpD_mkTx",
        "outputId": "3edd7d98-d4f3-43c3-a271-44f83925e9b0"
      },
      "outputs": [
        {
          "output_type": "execute_result",
          "data": {
            "text/plain": [
              "mean 55, standard deviation 3.605551275463989"
            ]
          },
          "metadata": {},
          "execution_count": 13
        }
      ],
      "source": [
        "# add gaussian_one and gaussian_two together\n",
        "gaussian_one + gaussian_two"
      ]
    }
  ],
  "metadata": {
    "kernelspec": {
      "display_name": "Python 3",
      "language": "python",
      "name": "python3"
    },
    "language_info": {
      "codemirror_mode": {
        "name": "ipython",
        "version": 3
      },
      "file_extension": ".py",
      "mimetype": "text/x-python",
      "name": "python",
      "nbconvert_exporter": "python",
      "pygments_lexer": "ipython3",
      "version": "3.9.4"
    },
    "colab": {
      "provenance": []
    }
  },
  "nbformat": 4,
  "nbformat_minor": 0
}