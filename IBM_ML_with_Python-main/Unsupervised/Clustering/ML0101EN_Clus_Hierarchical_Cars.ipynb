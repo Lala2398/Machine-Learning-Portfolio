{
  "cells": [
    {
      "cell_type": "markdown",
      "metadata": {
        "id": "77o5nEcEOcSU"
      },
      "source": [
        "<p style=\"text-align:center\">\n",
        "    <a href=\"https://skills.network/?utm_medium=Exinfluencer&utm_source=Exinfluencer&utm_content=000026UJ&utm_term=10006555&utm_id=NA-SkillsNetwork-Channel-SkillsNetworkCoursesIBMDeveloperSkillsNetworkML0101ENSkillsNetwork20718538-2022-01-01\" target=\"_blank\">\n",
        "    <img src=\"https://cf-courses-data.s3.us.cloud-object-storage.appdomain.cloud/assets/logos/SN_web_lightmode.png\" width=\"200\" alt=\"Skills Network Logo\"  />\n",
        "    </a>\n",
        "</p>\n",
        "\n",
        "# Hierarchical Clustering\n",
        "\n",
        "Estimated time needed: **25** minutes\n",
        "\n",
        "## Objectives\n",
        "\n",
        "After completing this lab you will be able to:\n",
        "\n",
        "*   Use scikit-learn to do Hierarchical clustering\n",
        "*   Create dendograms to visualize the clustering\n"
      ]
    },
    {
      "cell_type": "markdown",
      "metadata": {
        "id": "0fVFzyEOOcSY"
      },
      "source": [
        "<h1>Table of contents</h1>\n",
        "\n",
        "<div class=\"alert alert-block alert-info\" style=\"margin-top: 20px\">\n",
        "    <ol>\n",
        "        <li><a href=\"https://#hierarchical_agglomerative\">Hierarchical Clustering - Agglomerative</a></li>\n",
        "            <ol>\n",
        "                <li><a href=\"https://#generating_data\">Generating Random Data</a></li>\n",
        "                <li><a href=\"https://#agglomerative_clustering\">Agglomerative Clustering</a></li>\n",
        "                <li><a href=\"https://#dendrogram\">Dendrogram Associated for the Agglomerative Hierarchical Clustering</a></li>\n",
        "            </ol>            \n",
        "        <li><a href=\"https://#clustering_vehicle_dataset\">Clustering on the Vehicle Dataset</a></li>\n",
        "            <ol>\n",
        "                <li><a href=\"https://#data_cleaning\">Data Cleaning</a></li>\n",
        "                <li><a href=\"https://#clustering_using_scipy\">Clustering Using Scipy</a></li>\n",
        "                <li><a href=\"https://#clustering_using_skl\">Clustering using scikit-learn</a></li>\n",
        "            </ol>\n",
        "    </ol>\n",
        "</div>\n",
        "<br>\n",
        "<hr>\n"
      ]
    },
    {
      "cell_type": "markdown",
      "metadata": {
        "id": "lHhGocTiOcSZ"
      },
      "source": [
        "<h1 id=\"hierarchical_agglomerative\">Hierarchical Clustering - Agglomerative</h1>\n",
        "\n",
        "We will be looking at a clustering technique, which is <b>Agglomerative Hierarchical Clustering</b>. Remember that agglomerative is the bottom up approach. <br> <br>\n",
        "In this lab, we will be looking at Agglomerative clustering, which is more popular than Divisive clustering. <br> <br>\n",
        "We will also be using Complete Linkage as the Linkage Criteria. <br> <b> <i> NOTE: You can also try using Average Linkage wherever Complete Linkage would be used to see the difference! </i> </b>\n"
      ]
    },
    {
      "cell_type": "code",
      "execution_count": null,
      "metadata": {
        "id": "EKsZ99N1OcSa",
        "outputId": "29a2c676-d923-40e9-be0b-2e54d22cbba8"
      },
      "outputs": [
        {
          "name": "stderr",
          "output_type": "stream",
          "text": [
            "/home/jupyterlab/conda/envs/python/lib/python3.7/site-packages/sklearn/utils/validation.py:37: DeprecationWarning: distutils Version classes are deprecated. Use packaging.version instead.\n",
            "  LARGE_SPARSE_SUPPORTED = LooseVersion(scipy_version) >= '0.14.0'\n",
            "/home/jupyterlab/conda/envs/python/lib/python3.7/site-packages/sklearn/linear_model/least_angle.py:35: DeprecationWarning: `np.float` is a deprecated alias for the builtin `float`. To silence this warning, use `float` by itself. Doing this will not modify any behavior and is safe. If you specifically wanted the numpy scalar type, use `np.float64` here.\n",
            "Deprecated in NumPy 1.20; for more details and guidance: https://numpy.org/devdocs/release/1.20.0-notes.html#deprecations\n",
            "  eps=np.finfo(np.float).eps,\n",
            "/home/jupyterlab/conda/envs/python/lib/python3.7/site-packages/sklearn/linear_model/least_angle.py:597: DeprecationWarning: `np.float` is a deprecated alias for the builtin `float`. To silence this warning, use `float` by itself. Doing this will not modify any behavior and is safe. If you specifically wanted the numpy scalar type, use `np.float64` here.\n",
            "Deprecated in NumPy 1.20; for more details and guidance: https://numpy.org/devdocs/release/1.20.0-notes.html#deprecations\n",
            "  eps=np.finfo(np.float).eps, copy_X=True, fit_path=True,\n",
            "/home/jupyterlab/conda/envs/python/lib/python3.7/site-packages/sklearn/linear_model/least_angle.py:836: DeprecationWarning: `np.float` is a deprecated alias for the builtin `float`. To silence this warning, use `float` by itself. Doing this will not modify any behavior and is safe. If you specifically wanted the numpy scalar type, use `np.float64` here.\n",
            "Deprecated in NumPy 1.20; for more details and guidance: https://numpy.org/devdocs/release/1.20.0-notes.html#deprecations\n",
            "  eps=np.finfo(np.float).eps, copy_X=True, fit_path=True,\n",
            "/home/jupyterlab/conda/envs/python/lib/python3.7/site-packages/sklearn/linear_model/least_angle.py:862: DeprecationWarning: `np.float` is a deprecated alias for the builtin `float`. To silence this warning, use `float` by itself. Doing this will not modify any behavior and is safe. If you specifically wanted the numpy scalar type, use `np.float64` here.\n",
            "Deprecated in NumPy 1.20; for more details and guidance: https://numpy.org/devdocs/release/1.20.0-notes.html#deprecations\n",
            "  eps=np.finfo(np.float).eps, positive=False):\n",
            "/home/jupyterlab/conda/envs/python/lib/python3.7/site-packages/sklearn/linear_model/least_angle.py:1097: DeprecationWarning: `np.float` is a deprecated alias for the builtin `float`. To silence this warning, use `float` by itself. Doing this will not modify any behavior and is safe. If you specifically wanted the numpy scalar type, use `np.float64` here.\n",
            "Deprecated in NumPy 1.20; for more details and guidance: https://numpy.org/devdocs/release/1.20.0-notes.html#deprecations\n",
            "  max_n_alphas=1000, n_jobs=None, eps=np.finfo(np.float).eps,\n",
            "/home/jupyterlab/conda/envs/python/lib/python3.7/site-packages/sklearn/linear_model/least_angle.py:1344: DeprecationWarning: `np.float` is a deprecated alias for the builtin `float`. To silence this warning, use `float` by itself. Doing this will not modify any behavior and is safe. If you specifically wanted the numpy scalar type, use `np.float64` here.\n",
            "Deprecated in NumPy 1.20; for more details and guidance: https://numpy.org/devdocs/release/1.20.0-notes.html#deprecations\n",
            "  max_n_alphas=1000, n_jobs=None, eps=np.finfo(np.float).eps,\n",
            "/home/jupyterlab/conda/envs/python/lib/python3.7/site-packages/sklearn/linear_model/least_angle.py:1480: DeprecationWarning: `np.float` is a deprecated alias for the builtin `float`. To silence this warning, use `float` by itself. Doing this will not modify any behavior and is safe. If you specifically wanted the numpy scalar type, use `np.float64` here.\n",
            "Deprecated in NumPy 1.20; for more details and guidance: https://numpy.org/devdocs/release/1.20.0-notes.html#deprecations\n",
            "  eps=np.finfo(np.float).eps, copy_X=True, positive=False):\n",
            "/home/jupyterlab/conda/envs/python/lib/python3.7/site-packages/sklearn/linear_model/randomized_l1.py:152: DeprecationWarning: `np.float` is a deprecated alias for the builtin `float`. To silence this warning, use `float` by itself. Doing this will not modify any behavior and is safe. If you specifically wanted the numpy scalar type, use `np.float64` here.\n",
            "Deprecated in NumPy 1.20; for more details and guidance: https://numpy.org/devdocs/release/1.20.0-notes.html#deprecations\n",
            "  precompute=False, eps=np.finfo(np.float).eps,\n",
            "/home/jupyterlab/conda/envs/python/lib/python3.7/site-packages/sklearn/linear_model/randomized_l1.py:320: DeprecationWarning: `np.float` is a deprecated alias for the builtin `float`. To silence this warning, use `float` by itself. Doing this will not modify any behavior and is safe. If you specifically wanted the numpy scalar type, use `np.float64` here.\n",
            "Deprecated in NumPy 1.20; for more details and guidance: https://numpy.org/devdocs/release/1.20.0-notes.html#deprecations\n",
            "  eps=np.finfo(np.float).eps, random_state=None,\n",
            "/home/jupyterlab/conda/envs/python/lib/python3.7/site-packages/sklearn/linear_model/randomized_l1.py:580: DeprecationWarning: `np.float` is a deprecated alias for the builtin `float`. To silence this warning, use `float` by itself. Doing this will not modify any behavior and is safe. If you specifically wanted the numpy scalar type, use `np.float64` here.\n",
            "Deprecated in NumPy 1.20; for more details and guidance: https://numpy.org/devdocs/release/1.20.0-notes.html#deprecations\n",
            "  eps=4 * np.finfo(np.float).eps, n_jobs=None,\n",
            "/home/jupyterlab/conda/envs/python/lib/python3.7/site-packages/sklearn/decomposition/online_lda.py:31: DeprecationWarning: `np.float` is a deprecated alias for the builtin `float`. To silence this warning, use `float` by itself. Doing this will not modify any behavior and is safe. If you specifically wanted the numpy scalar type, use `np.float64` here.\n",
            "Deprecated in NumPy 1.20; for more details and guidance: https://numpy.org/devdocs/release/1.20.0-notes.html#deprecations\n",
            "  EPS = np.finfo(np.float).eps\n",
            "/home/jupyterlab/conda/envs/python/lib/python3.7/site-packages/sklearn/feature_extraction/image.py:167: DeprecationWarning: `np.int` is a deprecated alias for the builtin `int`. To silence this warning, use `int` by itself. Doing this will not modify any behavior and is safe. When replacing `np.int`, you may wish to use e.g. `np.int64` or `np.int32` to specify the precision. If you wish to review your current use, check the release note link for additional information.\n",
            "Deprecated in NumPy 1.20; for more details and guidance: https://numpy.org/devdocs/release/1.20.0-notes.html#deprecations\n",
            "  dtype=np.int):\n"
          ]
        }
      ],
      "source": [
        "import numpy as np \n",
        "import pandas as pd\n",
        "from scipy import ndimage \n",
        "from scipy.cluster import hierarchy \n",
        "from scipy.spatial import distance_matrix \n",
        "from matplotlib import pyplot as plt \n",
        "from sklearn import manifold, datasets \n",
        "from sklearn.cluster import AgglomerativeClustering \n",
        "from sklearn.datasets import make_blobs \n",
        "%matplotlib inline"
      ]
    },
    {
      "cell_type": "markdown",
      "metadata": {
        "id": "LpkwpqBzOcSc"
      },
      "source": [
        "<hr>\n",
        "<h3 id=\"generating_data\">Generating Random Data</h3>\n",
        "We will be generating a set of data using the <b>make_blobs</b> class. <br> <br>\n",
        "Input these parameters into make_blobs:\n",
        "<ul>\n",
        "    <li> <b>n_samples</b>: The total number of points equally divided among clusters. </li>\n",
        "    <ul> <li> Choose a number from 10-1500 </li> </ul>\n",
        "    <li> <b>centers</b>: The number of centers to generate, or the fixed center locations. </li>\n",
        "    <ul> <li> Choose arrays of x,y coordinates for generating the centers. Have 1-10 centers (ex. centers=[[1,1], [2,5]]) </li> </ul>\n",
        "    <li> <b>cluster_std</b>: The standard deviation of the clusters. The larger the number, the further apart the clusters</li>\n",
        "    <ul> <li> Choose a number between 0.5-1.5 </li> </ul>\n",
        "</ul> <br>\n",
        "Save the result to <b>X1</b> and <b>y1</b>.\n"
      ]
    },
    {
      "cell_type": "code",
      "execution_count": null,
      "metadata": {
        "id": "j4rZQ6OMOcSc"
      },
      "outputs": [],
      "source": [
        "X1, y1 = make_blobs(n_samples=50, centers=[[4,4], [-2, -1], [1, 1], [10,4]], cluster_std=0.9)"
      ]
    },
    {
      "cell_type": "markdown",
      "metadata": {
        "id": "qVHfoIc-OcSd"
      },
      "source": [
        "Plot the scatter plot of the randomly generated data.\n"
      ]
    },
    {
      "cell_type": "code",
      "execution_count": null,
      "metadata": {
        "id": "1cSxyHX6OcSd",
        "outputId": "3b70108a-3caa-47c8-b973-7e8035994698"
      },
      "outputs": [
        {
          "data": {
            "text/plain": [
              "<matplotlib.collections.PathCollection at 0x7f910844f7d0>"
            ]
          },
          "execution_count": 4,
          "metadata": {},
          "output_type": "execute_result"
        },
        {
          "data": {
            "image/png": "[encoded data removed]",
            "text/plain": [
              "<Figure size 432x288 with 1 Axes>"
            ]
          },
          "metadata": {
            "needs_background": "light"
          },
          "output_type": "display_data"
        }
      ],
      "source": [
        "plt.scatter(X1[:, 0], X1[:, 1], marker='o') "
      ]
    },
    {
      "cell_type": "markdown",
      "metadata": {
        "tags": [],
        "id": "k-X8uDdzOcSd"
      },
      "source": [
        "<hr>\n",
        "<h3 id=\"agglomerative_clustering\">Agglomerative Clustering</h3>\n",
        "\n",
        "We will start by clustering the random data points we just created.\n"
      ]
    },
    {
      "cell_type": "markdown",
      "metadata": {
        "id": "B4I2MxOmOcSd"
      },
      "source": [
        "The <b> Agglomerative Clustering </b> class will require two inputs:\n",
        "\n",
        "<ul>\n",
        "    <li> <b>n_clusters</b>: The number of clusters to form as well as the number of centroids to generate. </li>\n",
        "    <ul> <li> Value will be: 4 </li> </ul>\n",
        "    <li> <b>linkage</b>: Which linkage criterion to use. The linkage criterion determines which distance to use between sets of observation. The algorithm will merge the pairs of cluster that minimize this criterion. </li>\n",
        "    <ul> \n",
        "        <li> Value will be: 'complete' </li> \n",
        "        <li> <b>Note</b>: It is recommended you try everything with 'average' as well </li>\n",
        "    </ul>\n",
        "</ul> <br>\n",
        "Save the result to a variable called <b> agglom </b>.\n"
      ]
    },
    {
      "cell_type": "code",
      "execution_count": null,
      "metadata": {
        "id": "4wxfXZI4OcSe"
      },
      "outputs": [],
      "source": [
        "agglom = AgglomerativeClustering(n_clusters = 4, linkage = 'average')"
      ]
    },
    {
      "cell_type": "markdown",
      "metadata": {
        "id": "wPBlJ-WqOcSe"
      },
      "source": [
        "Fit the model with <b> X2 </b> and <b> y2 </b> from the generated data above.\n"
      ]
    },
    {
      "cell_type": "code",
      "execution_count": null,
      "metadata": {
        "scrolled": true,
        "id": "1kqEBIb_OcSe",
        "outputId": "549e2264-6922-4d27-cf1f-39ed9c832b52"
      },
      "outputs": [
        {
          "name": "stderr",
          "output_type": "stream",
          "text": [
            "/home/jupyterlab/conda/envs/python/lib/python3.7/site-packages/sklearn/utils/validation.py:209: DeprecationWarning: distutils Version classes are deprecated. Use packaging.version instead.\n",
            "  if LooseVersion(joblib_version) < '0.12':\n",
            "/home/jupyterlab/conda/envs/python/lib/python3.7/site-packages/sklearn/cluster/hierarchical.py:472: DeprecationWarning: `np.int` is a deprecated alias for the builtin `int`. To silence this warning, use `int` by itself. Doing this will not modify any behavior and is safe. When replacing `np.int`, you may wish to use e.g. `np.int64` or `np.int32` to specify the precision. If you wish to review your current use, check the release note link for additional information.\n",
            "Deprecated in NumPy 1.20; for more details and guidance: https://numpy.org/devdocs/release/1.20.0-notes.html#deprecations\n",
            "  children_ = out[:, :2].astype(np.int)\n"
          ]
        },
        {
          "data": {
            "text/plain": [
              "AgglomerativeClustering(affinity='euclidean', compute_full_tree='auto',\n",
              "            connectivity=None, linkage='average', memory=None,\n",
              "            n_clusters=4, pooling_func='deprecated')"
            ]
          },
          "execution_count": 6,
          "metadata": {},
          "output_type": "execute_result"
        }
      ],
      "source": [
        "agglom.fit(X1,y1)"
      ]
    },
    {
      "cell_type": "markdown",
      "metadata": {
        "id": "eKd46xcOOcSf"
      },
      "source": [
        "Run the following code to show the clustering! <br>\n",
        "Remember to read the code and comments to gain more understanding on how the plotting works.\n"
      ]
    },
    {
      "cell_type": "code",
      "execution_count": null,
      "metadata": {
        "id": "p4NMb5qbOcSf",
        "outputId": "bbda8331-ee5b-4fa9-f8be-5ffdaea24a65"
      },
      "outputs": [
        {
          "data": {
            "image/png": "[encoded data removed]",
            "text/plain": [
              "<Figure size 432x288 with 1 Axes>"
            ]
          },
          "metadata": {},
          "output_type": "display_data"
        }
      ],
      "source": [
        "# Create a figure of size 6 inches by 4 inches.\n",
        "plt.figure(figsize=(6,4))\n",
        "\n",
        "# These two lines of code are used to scale the data points down,\n",
        "# Or else the data points will be scattered very far apart.\n",
        "\n",
        "# Create a minimum and maximum range of X1.\n",
        "x_min, x_max = np.min(X1, axis=0), np.max(X1, axis=0)\n",
        "\n",
        "# Get the average distance for X1.\n",
        "X1 = (X1 - x_min) / (x_max - x_min)\n",
        "\n",
        "# This loop displays all of the datapoints.\n",
        "for i in range(X1.shape[0]):\n",
        "    # Replace the data points with their respective cluster value \n",
        "    # (ex. 0) and is color coded with a colormap (plt.cm.spectral)\n",
        "    plt.text(X1[i, 0], X1[i, 1], str(y1[i]),\n",
        "             color=plt.cm.nipy_spectral(agglom.labels_[i] / 10.),\n",
        "             fontdict={'weight': 'bold', 'size': 9})\n",
        "    \n",
        "# Remove the x ticks, y ticks, x and y axis\n",
        "plt.xticks([])\n",
        "plt.yticks([])\n",
        "#plt.axis('off')\n",
        "\n",
        "\n",
        "\n",
        "# Display the plot of the original data before clustering\n",
        "plt.scatter(X1[:, 0], X1[:, 1], marker='.')\n",
        "# Display the plot\n",
        "plt.show()"
      ]
    },
    {
      "cell_type": "markdown",
      "metadata": {
        "id": "5IuiZko9OcSf"
      },
      "source": [
        "<h3 id=\"dendrogram\">Dendrogram Associated for the Agglomerative Hierarchical Clustering</h3>\n",
        "\n",
        "Remember that a <b>distance matrix</b> contains the <b> distance from each point to every other point of a dataset </b>.\n",
        "\n",
        "Use the function <b> distance_matrix, </b> which requires <b>two inputs</b>. Use the Feature Matrix, <b> X1 </b> as both inputs and save the distance matrix to a variable called <b> dist_matrix </b> <br> <br>\n",
        "Remember that the distance values are symmetric, with a diagonal of 0's. This is one way of making sure your matrix is correct. <br> (print out dist_matrix to make sure it's correct)\n"
      ]
    },
    {
      "cell_type": "code",
      "execution_count": null,
      "metadata": {
        "scrolled": true,
        "id": "2J4xQr61OcSg",
        "outputId": "30fda573-0816-4ba7-d326-4397872a4348"
      },
      "outputs": [
        {
          "name": "stdout",
          "output_type": "stream",
          "text": [
            "[[0.         0.23795504 0.73706573 ... 0.83467558 0.30981928 0.54147946]\n",
            " [0.23795504 0.         0.87886369 ... 1.00381968 0.50061162 0.75328291]\n",
            " [0.73706573 0.87886369 0.         ... 0.17195617 0.43914586 0.36428052]\n",
            " ...\n",
            " [0.83467558 1.00381968 0.17195617 ... 0.         0.52511076 0.35948791]\n",
            " [0.30981928 0.50061162 0.43914586 ... 0.52511076 0.         0.25806103]\n",
            " [0.54147946 0.75328291 0.36428052 ... 0.35948791 0.25806103 0.        ]]\n"
          ]
        }
      ],
      "source": [
        "dist_matrix = distance_matrix(X1,X1) \n",
        "print(dist_matrix)"
      ]
    },
    {
      "cell_type": "markdown",
      "metadata": {
        "id": "iqROx4vGOcSg"
      },
      "source": [
        "Using the <b> linkage </b> class from hierarchy, pass in the parameters:\n",
        "\n",
        "<ul>\n",
        "    <li> The distance matrix </li>\n",
        "    <li> 'complete' for complete linkage </li>\n",
        "</ul> <br>\n",
        "Save the result to a variable called <b> Z </b>.\n"
      ]
    },
    {
      "cell_type": "code",
      "execution_count": null,
      "metadata": {
        "id": "9dDUbO0iOcSg",
        "outputId": "6ac0f9e9-c237-4a29-d511-57071b270595"
      },
      "outputs": [
        {
          "name": "stderr",
          "output_type": "stream",
          "text": [
            "/home/jupyterlab/conda/envs/python/lib/python3.7/site-packages/ipykernel_launcher.py:1: ClusterWarning: scipy.cluster: The symmetric non-negative hollow observation matrix looks suspiciously like an uncondensed distance matrix\n",
            "  \"\"\"Entry point for launching an IPython kernel.\n"
          ]
        }
      ],
      "source": [
        "Z = hierarchy.linkage(dist_matrix, 'complete')"
      ]
    },
    {
      "cell_type": "markdown",
      "metadata": {
        "id": "3eGNrxCiOcSg"
      },
      "source": [
        "A Hierarchical clustering is typically visualized as a dendrogram as shown in the following cell. Each merge is represented by a horizontal line. The y-coordinate of the horizontal line is the similarity of the two clusters that were merged, where cities are viewed as singleton clusters.\n",
        "By moving up from the bottom layer to the top node, a dendrogram allows us to reconstruct the history of merges that resulted in the depicted clustering.\n",
        "\n",
        "Next, we will save the dendrogram to a variable called <b>dendro</b>. In doing this, the dendrogram will also be displayed.\n",
        "Using the <b> dendrogram </b> class from hierarchy, pass in the parameter:\n",
        "\n",
        "<ul> <li> Z </li> </ul>\n"
      ]
    },
    {
      "cell_type": "code",
      "execution_count": null,
      "metadata": {
        "id": "iTfrfAXpOcSg",
        "outputId": "0c2fd20b-8dc3-487e-b94e-d70a842b6d0f"
      },
      "outputs": [
        {
          "data": {
            "image/png": "[encoded data removed]",
            "text/plain": [
              "<Figure size 432x288 with 1 Axes>"
            ]
          },
          "metadata": {
            "needs_background": "light"
          },
          "output_type": "display_data"
        }
      ],
      "source": [
        "dendro = hierarchy.dendrogram(Z)"
      ]
    },
    {
      "cell_type": "markdown",
      "metadata": {
        "id": "P7CmAi3DOcSh"
      },
      "source": [
        "## Practice\n",
        "\n",
        "We used **complete** linkage for our case, change it to **average** linkage to see how the dendogram changes.\n"
      ]
    },
    {
      "cell_type": "code",
      "execution_count": null,
      "metadata": {
        "id": "4SabvOsTOcSh",
        "outputId": "676cb0b8-564d-42e9-a5f5-dd2761f69f74"
      },
      "outputs": [
        {
          "name": "stderr",
          "output_type": "stream",
          "text": [
            "/home/jupyterlab/conda/envs/python/lib/python3.7/site-packages/ipykernel_launcher.py:3: ClusterWarning: scipy.cluster: The symmetric non-negative hollow observation matrix looks suspiciously like an uncondensed distance matrix\n",
            "  This is separate from the ipykernel package so we can avoid doing imports until\n"
          ]
        },
        {
          "data": {
            "image/png": "[encoded data removed]",
            "text/plain": [
              "<Figure size 432x288 with 1 Axes>"
            ]
          },
          "metadata": {
            "needs_background": "light"
          },
          "output_type": "display_data"
        }
      ],
      "source": [
        "# write your code here\n",
        "\n",
        "Z = hierarchy.linkage(dist_matrix, 'average')\n",
        "dendro = hierarchy.dendrogram(Z)"
      ]
    },
    {
      "cell_type": "markdown",
      "metadata": {
        "id": "9M5GWzYvOcSh"
      },
      "source": [
        "<hr>\n",
        "<h1 id=\"clustering_vehicle_dataset\">Clustering on Vehicle dataset</h1>\n",
        "\n",
        "Imagine that an automobile manufacturer has developed prototypes for a new vehicle. Before introducing the new model into its range, the manufacturer wants to determine which existing vehicles on the market are most like the prototypes--that is, how vehicles can be grouped, which group is the most similar with the model, and therefore which models they will be competing against.\n",
        "\n",
        "Our objective here, is to use clustering methods, to find the most distinctive clusters of vehicles. It will summarize the existing vehicles and help manufacturers to make decision about the supply of new models.\n"
      ]
    },
    {
      "cell_type": "markdown",
      "metadata": {
        "id": "FPh7DuZdOcSh"
      },
      "source": [
        "### Download data\n",
        "\n",
        "To download the data, we will use **`!wget`** to download it from IBM Object Storage.\\\n",
        "**Did you know?** When it comes to Machine Learning, you will likely be working with large datasets. As a business, where can you host your data? IBM is offering a unique opportunity for businesses, with 10 Tb of IBM Cloud Object Storage: [Sign up now for free](http://cocl.us/ML0101EN-IBM-Offer-CC)\n"
      ]
    },
    {
      "cell_type": "code",
      "execution_count": null,
      "metadata": {
        "id": "CO9kI17IOcSh",
        "outputId": "faa1f796-5a7d-452c-f143-41f24bb11b16"
      },
      "outputs": [
        {
          "name": "stdout",
          "output_type": "stream",
          "text": [
            "--2022-06-15 12:48:10--  https://cf-courses-data.s3.us.cloud-object-storage.appdomain.cloud/IBMDeveloperSkillsNetwork-ML0101EN-SkillsNetwork/labs/Module%204/data/cars_clus.csv\n",
            "Resolving cf-courses-data.s3.us.cloud-object-storage.appdomain.cloud (cf-courses-data.s3.us.cloud-object-storage.appdomain.cloud)... 169.63.118.104\n",
            "Connecting to cf-courses-data.s3.us.cloud-object-storage.appdomain.cloud (cf-courses-data.s3.us.cloud-object-storage.appdomain.cloud)|169.63.118.104|:443... connected.\n",
            "HTTP request sent, awaiting response... 200 OK\n",
            "Length: 17774 (17K) [text/csv]\n",
            "Saving to: ‘cars_clus.csv’\n",
            "\n",
            "cars_clus.csv       100%[===================>]  17.36K  --.-KB/s    in 0s      \n",
            "\n",
            "2022-06-15 12:48:10 (192 MB/s) - ‘cars_clus.csv’ saved [17774/17774]\n",
            "\n"
          ]
        }
      ],
      "source": [
        "!wget -O cars_clus.csv https://cf-courses-data.s3.us.cloud-object-storage.appdomain.cloud/IBMDeveloperSkillsNetwork-ML0101EN-SkillsNetwork/labs/Module%204/data/cars_clus.csv"
      ]
    },
    {
      "cell_type": "markdown",
      "metadata": {
        "id": "Cgz0GoIfOcSi"
      },
      "source": [
        "## Read data\n",
        "\n",
        "Let's read dataset to see what features the manufacturer has collected about the existing models.\n"
      ]
    },
    {
      "cell_type": "code",
      "execution_count": null,
      "metadata": {
        "id": "NbtV3sikOcSi",
        "outputId": "f0b35ecf-cc97-4a76-d3de-0758b7228e55"
      },
      "outputs": [
        {
          "name": "stdout",
          "output_type": "stream",
          "text": [
            "Shape of dataset:  (159, 16)\n"
          ]
        },
        {
          "data": {
            "text/html": [
              "<div>\n",
              "<style scoped>\n",
              "    .dataframe tbody tr th:only-of-type {\n",
              "        vertical-align: middle;\n",
              "    }\n",
              "\n",
              "    .dataframe tbody tr th {\n",
              "        vertical-align: top;\n",
              "    }\n",
              "\n",
              "    .dataframe thead th {\n",
              "        text-align: right;\n",
              "    }\n",
              "</style>\n",
              "<table border=\"1\" class=\"dataframe\">\n",
              "  <thead>\n",
              "    <tr style=\"text-align: right;\">\n",
              "      <th></th>\n",
              "      <th>manufact</th>\n",
              "      <th>model</th>\n",
              "      <th>sales</th>\n",
              "      <th>resale</th>\n",
              "      <th>type</th>\n",
              "      <th>price</th>\n",
              "      <th>engine_s</th>\n",
              "      <th>horsepow</th>\n",
              "      <th>wheelbas</th>\n",
              "      <th>width</th>\n",
              "      <th>length</th>\n",
              "      <th>curb_wgt</th>\n",
              "      <th>fuel_cap</th>\n",
              "      <th>mpg</th>\n",
              "      <th>lnsales</th>\n",
              "      <th>partition</th>\n",
              "    </tr>\n",
              "  </thead>\n",
              "  <tbody>\n",
              "    <tr>\n",
              "      <th>0</th>\n",
              "      <td>Acura</td>\n",
              "      <td>Integra</td>\n",
              "      <td>16.919</td>\n",
              "      <td>16.360</td>\n",
              "      <td>0.000</td>\n",
              "      <td>21.500</td>\n",
              "      <td>1.800</td>\n",
              "      <td>140.000</td>\n",
              "      <td>101.200</td>\n",
              "      <td>67.300</td>\n",
              "      <td>172.400</td>\n",
              "      <td>2.639</td>\n",
              "      <td>13.200</td>\n",
              "      <td>28.000</td>\n",
              "      <td>2.828</td>\n",
              "      <td>0.0</td>\n",
              "    </tr>\n",
              "    <tr>\n",
              "      <th>1</th>\n",
              "      <td>Acura</td>\n",
              "      <td>TL</td>\n",
              "      <td>39.384</td>\n",
              "      <td>19.875</td>\n",
              "      <td>0.000</td>\n",
              "      <td>28.400</td>\n",
              "      <td>3.200</td>\n",
              "      <td>225.000</td>\n",
              "      <td>108.100</td>\n",
              "      <td>70.300</td>\n",
              "      <td>192.900</td>\n",
              "      <td>3.517</td>\n",
              "      <td>17.200</td>\n",
              "      <td>25.000</td>\n",
              "      <td>3.673</td>\n",
              "      <td>0.0</td>\n",
              "    </tr>\n",
              "    <tr>\n",
              "      <th>2</th>\n",
              "      <td>Acura</td>\n",
              "      <td>CL</td>\n",
              "      <td>14.114</td>\n",
              "      <td>18.225</td>\n",
              "      <td>0.000</td>\n",
              "      <td>$null$</td>\n",
              "      <td>3.200</td>\n",
              "      <td>225.000</td>\n",
              "      <td>106.900</td>\n",
              "      <td>70.600</td>\n",
              "      <td>192.000</td>\n",
              "      <td>3.470</td>\n",
              "      <td>17.200</td>\n",
              "      <td>26.000</td>\n",
              "      <td>2.647</td>\n",
              "      <td>0.0</td>\n",
              "    </tr>\n",
              "    <tr>\n",
              "      <th>3</th>\n",
              "      <td>Acura</td>\n",
              "      <td>RL</td>\n",
              "      <td>8.588</td>\n",
              "      <td>29.725</td>\n",
              "      <td>0.000</td>\n",
              "      <td>42.000</td>\n",
              "      <td>3.500</td>\n",
              "      <td>210.000</td>\n",
              "      <td>114.600</td>\n",
              "      <td>71.400</td>\n",
              "      <td>196.600</td>\n",
              "      <td>3.850</td>\n",
              "      <td>18.000</td>\n",
              "      <td>22.000</td>\n",
              "      <td>2.150</td>\n",
              "      <td>0.0</td>\n",
              "    </tr>\n",
              "    <tr>\n",
              "      <th>4</th>\n",
              "      <td>Audi</td>\n",
              "      <td>A4</td>\n",
              "      <td>20.397</td>\n",
              "      <td>22.255</td>\n",
              "      <td>0.000</td>\n",
              "      <td>23.990</td>\n",
              "      <td>1.800</td>\n",
              "      <td>150.000</td>\n",
              "      <td>102.600</td>\n",
              "      <td>68.200</td>\n",
              "      <td>178.000</td>\n",
              "      <td>2.998</td>\n",
              "      <td>16.400</td>\n",
              "      <td>27.000</td>\n",
              "      <td>3.015</td>\n",
              "      <td>0.0</td>\n",
              "    </tr>\n",
              "  </tbody>\n",
              "</table>\n",
              "</div>"
            ],
            "text/plain": [
              "  manufact    model   sales  resale   type   price engine_s horsepow wheelbas  \\\n",
              "0    Acura  Integra  16.919  16.360  0.000  21.500    1.800  140.000  101.200   \n",
              "1    Acura       TL  39.384  19.875  0.000  28.400    3.200  225.000  108.100   \n",
              "2    Acura       CL  14.114  18.225  0.000  $null$    3.200  225.000  106.900   \n",
              "3    Acura       RL   8.588  29.725  0.000  42.000    3.500  210.000  114.600   \n",
              "4     Audi       A4  20.397  22.255  0.000  23.990    1.800  150.000  102.600   \n",
              "\n",
              "    width   length curb_wgt fuel_cap     mpg lnsales  partition  \n",
              "0  67.300  172.400    2.639   13.200  28.000   2.828        0.0  \n",
              "1  70.300  192.900    3.517   17.200  25.000   3.673        0.0  \n",
              "2  70.600  192.000    3.470   17.200  26.000   2.647        0.0  \n",
              "3  71.400  196.600    3.850   18.000  22.000   2.150        0.0  \n",
              "4  68.200  178.000    2.998   16.400  27.000   3.015        0.0  "
            ]
          },
          "execution_count": 13,
          "metadata": {},
          "output_type": "execute_result"
        }
      ],
      "source": [
        "filename = 'cars_clus.csv'\n",
        "\n",
        "#Read csv\n",
        "pdf = pd.read_csv(filename)\n",
        "print (\"Shape of dataset: \", pdf.shape)\n",
        "\n",
        "pdf.head(5)"
      ]
    },
    {
      "cell_type": "markdown",
      "metadata": {
        "id": "NDZ6vQAqOcSi"
      },
      "source": [
        "The feature sets include  price in thousands (price), engine size (engine_s), horsepower (horsepow), wheelbase (wheelbas), width (width), length (length), curb weight (curb_wgt), fuel capacity (fuel_cap) and fuel efficiency (mpg).\n"
      ]
    },
    {
      "cell_type": "markdown",
      "metadata": {
        "id": "86TQ50eAOcSi"
      },
      "source": [
        "<h2 id=\"data_cleaning\">Data Cleaning</h2>\n",
        "\n",
        "Let's clean the dataset by dropping the rows that have null value:\n"
      ]
    },
    {
      "cell_type": "code",
      "execution_count": null,
      "metadata": {
        "id": "JE4a9RQ2OcSi",
        "outputId": "9525ddd8-e4a3-4019-a2aa-fb4ec46695f5"
      },
      "outputs": [
        {
          "name": "stdout",
          "output_type": "stream",
          "text": [
            "Shape of dataset before cleaning:  2544\n",
            "Shape of dataset after cleaning:  1872\n"
          ]
        },
        {
          "data": {
            "text/html": [
              "<div>\n",
              "<style scoped>\n",
              "    .dataframe tbody tr th:only-of-type {\n",
              "        vertical-align: middle;\n",
              "    }\n",
              "\n",
              "    .dataframe tbody tr th {\n",
              "        vertical-align: top;\n",
              "    }\n",
              "\n",
              "    .dataframe thead th {\n",
              "        text-align: right;\n",
              "    }\n",
              "</style>\n",
              "<table border=\"1\" class=\"dataframe\">\n",
              "  <thead>\n",
              "    <tr style=\"text-align: right;\">\n",
              "      <th></th>\n",
              "      <th>manufact</th>\n",
              "      <th>model</th>\n",
              "      <th>sales</th>\n",
              "      <th>resale</th>\n",
              "      <th>type</th>\n",
              "      <th>price</th>\n",
              "      <th>engine_s</th>\n",
              "      <th>horsepow</th>\n",
              "      <th>wheelbas</th>\n",
              "      <th>width</th>\n",
              "      <th>length</th>\n",
              "      <th>curb_wgt</th>\n",
              "      <th>fuel_cap</th>\n",
              "      <th>mpg</th>\n",
              "      <th>lnsales</th>\n",
              "      <th>partition</th>\n",
              "    </tr>\n",
              "  </thead>\n",
              "  <tbody>\n",
              "    <tr>\n",
              "      <th>0</th>\n",
              "      <td>Acura</td>\n",
              "      <td>Integra</td>\n",
              "      <td>16.919</td>\n",
              "      <td>16.360</td>\n",
              "      <td>0.0</td>\n",
              "      <td>21.50</td>\n",
              "      <td>1.8</td>\n",
              "      <td>140.0</td>\n",
              "      <td>101.2</td>\n",
              "      <td>67.3</td>\n",
              "      <td>172.4</td>\n",
              "      <td>2.639</td>\n",
              "      <td>13.2</td>\n",
              "      <td>28.0</td>\n",
              "      <td>2.828</td>\n",
              "      <td>0.0</td>\n",
              "    </tr>\n",
              "    <tr>\n",
              "      <th>1</th>\n",
              "      <td>Acura</td>\n",
              "      <td>TL</td>\n",
              "      <td>39.384</td>\n",
              "      <td>19.875</td>\n",
              "      <td>0.0</td>\n",
              "      <td>28.40</td>\n",
              "      <td>3.2</td>\n",
              "      <td>225.0</td>\n",
              "      <td>108.1</td>\n",
              "      <td>70.3</td>\n",
              "      <td>192.9</td>\n",
              "      <td>3.517</td>\n",
              "      <td>17.2</td>\n",
              "      <td>25.0</td>\n",
              "      <td>3.673</td>\n",
              "      <td>0.0</td>\n",
              "    </tr>\n",
              "    <tr>\n",
              "      <th>2</th>\n",
              "      <td>Acura</td>\n",
              "      <td>RL</td>\n",
              "      <td>8.588</td>\n",
              "      <td>29.725</td>\n",
              "      <td>0.0</td>\n",
              "      <td>42.00</td>\n",
              "      <td>3.5</td>\n",
              "      <td>210.0</td>\n",
              "      <td>114.6</td>\n",
              "      <td>71.4</td>\n",
              "      <td>196.6</td>\n",
              "      <td>3.850</td>\n",
              "      <td>18.0</td>\n",
              "      <td>22.0</td>\n",
              "      <td>2.150</td>\n",
              "      <td>0.0</td>\n",
              "    </tr>\n",
              "    <tr>\n",
              "      <th>3</th>\n",
              "      <td>Audi</td>\n",
              "      <td>A4</td>\n",
              "      <td>20.397</td>\n",
              "      <td>22.255</td>\n",
              "      <td>0.0</td>\n",
              "      <td>23.99</td>\n",
              "      <td>1.8</td>\n",
              "      <td>150.0</td>\n",
              "      <td>102.6</td>\n",
              "      <td>68.2</td>\n",
              "      <td>178.0</td>\n",
              "      <td>2.998</td>\n",
              "      <td>16.4</td>\n",
              "      <td>27.0</td>\n",
              "      <td>3.015</td>\n",
              "      <td>0.0</td>\n",
              "    </tr>\n",
              "    <tr>\n",
              "      <th>4</th>\n",
              "      <td>Audi</td>\n",
              "      <td>A6</td>\n",
              "      <td>18.780</td>\n",
              "      <td>23.555</td>\n",
              "      <td>0.0</td>\n",
              "      <td>33.95</td>\n",
              "      <td>2.8</td>\n",
              "      <td>200.0</td>\n",
              "      <td>108.7</td>\n",
              "      <td>76.1</td>\n",
              "      <td>192.0</td>\n",
              "      <td>3.561</td>\n",
              "      <td>18.5</td>\n",
              "      <td>22.0</td>\n",
              "      <td>2.933</td>\n",
              "      <td>0.0</td>\n",
              "    </tr>\n",
              "  </tbody>\n",
              "</table>\n",
              "</div>"
            ],
            "text/plain": [
              "  manufact    model   sales  resale  type  price  engine_s  horsepow  \\\n",
              "0    Acura  Integra  16.919  16.360   0.0  21.50       1.8     140.0   \n",
              "1    Acura       TL  39.384  19.875   0.0  28.40       3.2     225.0   \n",
              "2    Acura       RL   8.588  29.725   0.0  42.00       3.5     210.0   \n",
              "3     Audi       A4  20.397  22.255   0.0  23.99       1.8     150.0   \n",
              "4     Audi       A6  18.780  23.555   0.0  33.95       2.8     200.0   \n",
              "\n",
              "   wheelbas  width  length  curb_wgt  fuel_cap   mpg  lnsales  partition  \n",
              "0     101.2   67.3   172.4     2.639      13.2  28.0    2.828        0.0  \n",
              "1     108.1   70.3   192.9     3.517      17.2  25.0    3.673        0.0  \n",
              "2     114.6   71.4   196.6     3.850      18.0  22.0    2.150        0.0  \n",
              "3     102.6   68.2   178.0     2.998      16.4  27.0    3.015        0.0  \n",
              "4     108.7   76.1   192.0     3.561      18.5  22.0    2.933        0.0  "
            ]
          },
          "execution_count": 14,
          "metadata": {},
          "output_type": "execute_result"
        }
      ],
      "source": [
        "print (\"Shape of dataset before cleaning: \", pdf.size)\n",
        "pdf[[ 'sales', 'resale', 'type', 'price', 'engine_s',\n",
        "       'horsepow', 'wheelbas', 'width', 'length', 'curb_wgt', 'fuel_cap',\n",
        "       'mpg', 'lnsales']] = pdf[['sales', 'resale', 'type', 'price', 'engine_s',\n",
        "       'horsepow', 'wheelbas', 'width', 'length', 'curb_wgt', 'fuel_cap',\n",
        "       'mpg', 'lnsales']].apply(pd.to_numeric, errors='coerce')\n",
        "pdf = pdf.dropna()\n",
        "pdf = pdf.reset_index(drop=True)\n",
        "print (\"Shape of dataset after cleaning: \", pdf.size)\n",
        "pdf.head(5)"
      ]
    },
    {
      "cell_type": "markdown",
      "metadata": {
        "id": "CtokeaWDOcSj"
      },
      "source": [
        "### Feature selection\n",
        "\n",
        "Let's select our feature set:\n"
      ]
    },
    {
      "cell_type": "code",
      "execution_count": null,
      "metadata": {
        "id": "-ibJhUrvOcSj"
      },
      "outputs": [],
      "source": [
        "featureset = pdf[['engine_s',  'horsepow', 'wheelbas', 'width', 'length', 'curb_wgt', 'fuel_cap', 'mpg']]"
      ]
    },
    {
      "cell_type": "markdown",
      "metadata": {
        "id": "JmeXRW-vOcSj"
      },
      "source": [
        "### Normalization\n",
        "\n",
        "Now we can normalize the feature set. **MinMaxScaler** transforms features by scaling each feature to a given range. It is by default (0, 1). That is, this estimator scales and translates each feature individually such that it is between zero and one.\n"
      ]
    },
    {
      "cell_type": "code",
      "execution_count": null,
      "metadata": {
        "id": "14g1qM0XOcSj",
        "outputId": "184e0ed8-3f6e-4d25-8fbb-73909984df8f"
      },
      "outputs": [
        {
          "data": {
            "text/plain": [
              "array([[0.11428571, 0.21518987, 0.18655098, 0.28143713, 0.30625832,\n",
              "        0.2310559 , 0.13364055, 0.43333333],\n",
              "       [0.31428571, 0.43037975, 0.3362256 , 0.46107784, 0.5792277 ,\n",
              "        0.50372671, 0.31797235, 0.33333333],\n",
              "       [0.35714286, 0.39240506, 0.47722343, 0.52694611, 0.62849534,\n",
              "        0.60714286, 0.35483871, 0.23333333],\n",
              "       [0.11428571, 0.24050633, 0.21691974, 0.33532934, 0.38082557,\n",
              "        0.34254658, 0.28110599, 0.4       ],\n",
              "       [0.25714286, 0.36708861, 0.34924078, 0.80838323, 0.56724368,\n",
              "        0.5173913 , 0.37788018, 0.23333333]])"
            ]
          },
          "execution_count": 17,
          "metadata": {},
          "output_type": "execute_result"
        }
      ],
      "source": [
        "from sklearn.preprocessing import MinMaxScaler\n",
        "x = featureset.values #returns a numpy array\n",
        "min_max_scaler = MinMaxScaler()\n",
        "feature_mtx = min_max_scaler.fit_transform(x)\n",
        "feature_mtx [0:5]"
      ]
    },
    {
      "cell_type": "markdown",
      "metadata": {
        "id": "oVcDUPubOcSj"
      },
      "source": [
        "<h2 id=\"clustering_using_scipy\">Clustering using Scipy</h2>\n",
        "\n",
        "In this part we use Scipy package to cluster the dataset.\n",
        "\n",
        "First, we calculate the distance matrix.\n"
      ]
    },
    {
      "cell_type": "code",
      "execution_count": null,
      "metadata": {
        "id": "vEC9s3bPOcSj",
        "outputId": "e97cd08e-a40c-48ab-9cda-cb59e41b1c5a"
      },
      "outputs": [
        {
          "name": "stderr",
          "output_type": "stream",
          "text": [
            "/home/jupyterlab/conda/envs/python/lib/python3.7/site-packages/ipykernel_launcher.py:3: DeprecationWarning: scipy.zeros is deprecated and will be removed in SciPy 2.0.0, use numpy.zeros instead\n",
            "  This is separate from the ipykernel package so we can avoid doing imports until\n"
          ]
        },
        {
          "data": {
            "text/plain": [
              "array([[0.        , 0.57777143, 0.75455727, ..., 0.28530295, 0.24917241,\n",
              "        0.18879995],\n",
              "       [0.57777143, 0.        , 0.22798938, ..., 0.36087756, 0.66346677,\n",
              "        0.62201282],\n",
              "       [0.75455727, 0.22798938, 0.        , ..., 0.51727787, 0.81786095,\n",
              "        0.77930119],\n",
              "       ...,\n",
              "       [0.28530295, 0.36087756, 0.51727787, ..., 0.        , 0.41797928,\n",
              "        0.35720492],\n",
              "       [0.24917241, 0.66346677, 0.81786095, ..., 0.41797928, 0.        ,\n",
              "        0.15212198],\n",
              "       [0.18879995, 0.62201282, 0.77930119, ..., 0.35720492, 0.15212198,\n",
              "        0.        ]])"
            ]
          },
          "execution_count": 18,
          "metadata": {},
          "output_type": "execute_result"
        }
      ],
      "source": [
        "import scipy\n",
        "leng = feature_mtx.shape[0]\n",
        "D = scipy.zeros([leng,leng])\n",
        "for i in range(leng):\n",
        "    for j in range(leng):\n",
        "        D[i,j] = scipy.spatial.distance.euclidean(feature_mtx[i], feature_mtx[j])\n",
        "D"
      ]
    },
    {
      "cell_type": "markdown",
      "metadata": {
        "id": "l2YEDxRiOcSk"
      },
      "source": [
        "In agglomerative clustering, at each iteration, the algorithm must update the distance matrix to reflect the distance of the newly formed cluster with the remaining clusters in the forest.\n",
        "The following methods are supported in Scipy for calculating the distance between the newly formed cluster and each:\n",
        "\\- single\n",
        "\\- complete\n",
        "\\- average\n",
        "\\- weighted\n",
        "\\- centroid\n",
        "\n",
        "We use **complete** for our case, but feel free to change it to see how the results change.\n"
      ]
    },
    {
      "cell_type": "code",
      "execution_count": null,
      "metadata": {
        "id": "JyjliyGwOcSk",
        "outputId": "bac6119c-85eb-4271-edbe-a159be7178e5"
      },
      "outputs": [
        {
          "name": "stderr",
          "output_type": "stream",
          "text": [
            "/home/jupyterlab/conda/envs/python/lib/python3.7/site-packages/ipykernel_launcher.py:3: ClusterWarning: scipy.cluster: The symmetric non-negative hollow observation matrix looks suspiciously like an uncondensed distance matrix\n",
            "  This is separate from the ipykernel package so we can avoid doing imports until\n"
          ]
        }
      ],
      "source": [
        "import pylab\n",
        "import scipy.cluster.hierarchy\n",
        "Z = hierarchy.linkage(D, 'complete')"
      ]
    },
    {
      "cell_type": "markdown",
      "metadata": {
        "id": "9IY4XtmmOcSk"
      },
      "source": [
        "Essentially, Hierarchical clustering does not require a pre-specified number of clusters. However, in some applications we want a partition of disjoint clusters just as in flat clustering.\n",
        "So you can use a cutting line:\n"
      ]
    },
    {
      "cell_type": "code",
      "execution_count": null,
      "metadata": {
        "id": "MKT9I-EWOcSk"
      },
      "outputs": [],
      "source": [
        "from scipy.cluster.hierarchy import fcluster\n",
        "max_d = 3\n",
        "clusters = fcluster(Z, max_d, criterion='distance')\n",
        "clusters"
      ]
    },
    {
      "cell_type": "markdown",
      "metadata": {
        "id": "x6x83OsfOcSk"
      },
      "source": [
        "Also, you can determine the number of clusters directly:\n"
      ]
    },
    {
      "cell_type": "code",
      "execution_count": null,
      "metadata": {
        "id": "5xDuUU-6OcSk"
      },
      "outputs": [],
      "source": [
        "from scipy.cluster.hierarchy import fcluster\n",
        "k = 5\n",
        "clusters = fcluster(Z, k, criterion='maxclust')\n",
        "clusters\n"
      ]
    },
    {
      "cell_type": "markdown",
      "metadata": {
        "id": "oaZeHoJhOcSk"
      },
      "source": [
        "Now, plot the dendrogram:\n"
      ]
    },
    {
      "cell_type": "code",
      "execution_count": null,
      "metadata": {
        "id": "4lf6ZMUuOcSl"
      },
      "outputs": [],
      "source": [
        "fig = pylab.figure(figsize=(18,50))\n",
        "def llf(id):\n",
        "    return '[%s %s %s]' % (pdf['manufact'][id], pdf['model'][id], int(float(pdf['type'][id])) )\n",
        "    \n",
        "dendro = hierarchy.dendrogram(Z,  leaf_label_func=llf, leaf_rotation=0, leaf_font_size =12, orientation = 'right')"
      ]
    },
    {
      "cell_type": "markdown",
      "metadata": {
        "id": "kMDYRD5oOcSl"
      },
      "source": [
        "<h2 id=\"clustering_using_skl\">Clustering using scikit-learn</h2>\n",
        "\n",
        "Let's redo it again, but this time using the scikit-learn package:\n"
      ]
    },
    {
      "cell_type": "code",
      "execution_count": null,
      "metadata": {
        "id": "LKmLNA2FOcSl"
      },
      "outputs": [],
      "source": [
        "from sklearn.metrics.pairwise import euclidean_distances\n",
        "dist_matrix = euclidean_distances(feature_mtx,feature_mtx) \n",
        "print(dist_matrix)"
      ]
    },
    {
      "cell_type": "code",
      "execution_count": null,
      "metadata": {
        "id": "LLPZsXXdOcSl"
      },
      "outputs": [],
      "source": [
        "Z_using_dist_matrix = hierarchy.linkage(dist_matrix, 'complete')"
      ]
    },
    {
      "cell_type": "code",
      "execution_count": null,
      "metadata": {
        "id": "uLVkvp2wOcSl"
      },
      "outputs": [],
      "source": [
        "fig = pylab.figure(figsize=(18,50))\n",
        "def llf(id):\n",
        "    return '[%s %s %s]' % (pdf['manufact'][id], pdf['model'][id], int(float(pdf['type'][id])) )\n",
        "    \n",
        "dendro = hierarchy.dendrogram(Z_using_dist_matrix,  leaf_label_func=llf, leaf_rotation=0, leaf_font_size =12, orientation = 'right')"
      ]
    },
    {
      "cell_type": "markdown",
      "metadata": {
        "id": "gR8MLixROcSl"
      },
      "source": [
        "Now, we can use the 'AgglomerativeClustering' function from scikit-learn library to cluster the dataset. The AgglomerativeClustering performs a hierarchical clustering using a bottom up approach. The linkage criteria determines the metric used for the merge strategy:\n",
        "\n",
        "*   Ward minimizes the sum of squared differences within all clusters. It is a variance-minimizing approach and in this sense is similar to the k-means objective function but tackled with an agglomerative hierarchical approach.\n",
        "*   Maximum or complete linkage minimizes the maximum distance between observations of pairs of clusters.\n",
        "*   Average linkage minimizes the average of the distances between all observations of pairs of clusters.\n"
      ]
    },
    {
      "cell_type": "code",
      "execution_count": null,
      "metadata": {
        "id": "3Rv57AKiOcSl"
      },
      "outputs": [],
      "source": [
        "agglom = AgglomerativeClustering(n_clusters = 6, linkage = 'complete')\n",
        "agglom.fit(dist_matrix)\n",
        "\n",
        "agglom.labels_"
      ]
    },
    {
      "cell_type": "markdown",
      "metadata": {
        "id": "brCxRdm0OcSm"
      },
      "source": [
        "We can add a new field to our dataframe to show the cluster of each row:\n"
      ]
    },
    {
      "cell_type": "code",
      "execution_count": null,
      "metadata": {
        "id": "zUUjkSfbOcSm"
      },
      "outputs": [],
      "source": [
        "pdf['cluster_'] = agglom.labels_\n",
        "pdf.head()"
      ]
    },
    {
      "cell_type": "code",
      "execution_count": null,
      "metadata": {
        "id": "zSJeIbI0OcSm"
      },
      "outputs": [],
      "source": [
        "import matplotlib.cm as cm\n",
        "n_clusters = max(agglom.labels_)+1\n",
        "colors = cm.rainbow(np.linspace(0, 1, n_clusters))\n",
        "cluster_labels = list(range(0, n_clusters))\n",
        "\n",
        "# Create a figure of size 6 inches by 4 inches.\n",
        "plt.figure(figsize=(16,14))\n",
        "\n",
        "for color, label in zip(colors, cluster_labels):\n",
        "    subset = pdf[pdf.cluster_ == label]\n",
        "    for i in subset.index:\n",
        "            plt.text(subset.horsepow[i], subset.mpg[i],str(subset['model'][i]), rotation=25) \n",
        "    plt.scatter(subset.horsepow, subset.mpg, s= subset.price*10, c=color, label='cluster'+str(label),alpha=0.5)\n",
        "#    plt.scatter(subset.horsepow, subset.mpg)\n",
        "plt.legend()\n",
        "plt.title('Clusters')\n",
        "plt.xlabel('horsepow')\n",
        "plt.ylabel('mpg')"
      ]
    },
    {
      "cell_type": "markdown",
      "metadata": {
        "id": "k0igUsjEOcSm"
      },
      "source": [
        "As you can see, we are seeing the distribution of each cluster using the scatter plot, but it is not very clear where is the centroid of each cluster. Moreover, there are 2 types of vehicles in our dataset, \"truck\" (value of 1 in the type column) and \"car\" (value of 0 in the type column). So, we use them to distinguish the classes, and summarize the cluster. First we count the number of cases in each group:\n"
      ]
    },
    {
      "cell_type": "code",
      "execution_count": null,
      "metadata": {
        "id": "70xunP14OcSm"
      },
      "outputs": [],
      "source": [
        "pdf.groupby(['cluster_','type'])['cluster_'].count()"
      ]
    },
    {
      "cell_type": "markdown",
      "metadata": {
        "id": "_DOxH1rsOcSm"
      },
      "source": [
        "Now we can look at the characteristics of each cluster:\n"
      ]
    },
    {
      "cell_type": "code",
      "execution_count": null,
      "metadata": {
        "id": "Rvz1vBjhOcSm"
      },
      "outputs": [],
      "source": [
        "agg_cars = pdf.groupby(['cluster_','type'])['horsepow','engine_s','mpg','price'].mean()\n",
        "agg_cars"
      ]
    },
    {
      "cell_type": "markdown",
      "metadata": {
        "id": "CIPeQGMcOcSm"
      },
      "source": [
        "It is obvious that we have 3 main clusters with the majority of vehicles in those.\n",
        "\n",
        "**Cars**:\n",
        "\n",
        "*   Cluster 1: with almost high mpg, and low in horsepower.\n",
        "\n",
        "*   Cluster 2: with good mpg and horsepower, but higher price than average.\n",
        "\n",
        "*   Cluster 3: with low mpg, high horsepower, highest price.\n",
        "\n",
        "**Trucks**:\n",
        "\n",
        "*   Cluster 1: with almost highest mpg among trucks, and lowest in horsepower and price.\n",
        "*   Cluster 2: with almost low mpg and medium horsepower, but higher price than average.\n",
        "*   Cluster 3: with good mpg and horsepower, low price.\n",
        "\n",
        "Please notice that we did not use **type**  and **price** of cars in the clustering process, but Hierarchical clustering could forge the clusters and discriminate them with quite a high accuracy.\n"
      ]
    },
    {
      "cell_type": "code",
      "execution_count": null,
      "metadata": {
        "id": "SFwKdib2OcSn"
      },
      "outputs": [],
      "source": [
        "plt.figure(figsize=(16,10))\n",
        "for color, label in zip(colors, cluster_labels):\n",
        "    subset = agg_cars.loc[(label,),]\n",
        "    for i in subset.index:\n",
        "        plt.text(subset.loc[i][0]+5, subset.loc[i][2], 'type='+str(int(i)) + ', price='+str(int(subset.loc[i][3]))+'k')\n",
        "    plt.scatter(subset.horsepow, subset.mpg, s=subset.price*20, c=color, label='cluster'+str(label))\n",
        "plt.legend()\n",
        "plt.title('Clusters')\n",
        "plt.xlabel('horsepow')\n",
        "plt.ylabel('mpg')\n"
      ]
    },
    {
      "cell_type": "markdown",
      "metadata": {
        "id": "a2gSyThwOcSn"
      },
      "source": [
        "<h2>Want to learn more?</h2>\n",
        "\n",
        "IBM SPSS Modeler is a comprehensive analytics platform that has many machine learning algorithms. It has been designed to bring predictive intelligence to decisions made by individuals, by groups, by systems – by your enterprise as a whole. A free trial is available through this course, available here: <a href=\"https://www.ibm.com/analytics/spss-statistics-software?utm_medium=Exinfluencer&utm_source=Exinfluencer&utm_content=000026UJ&utm_term=10006555&utm_id=NA-SkillsNetwork-Channel-SkillsNetworkCoursesIBMDeveloperSkillsNetworkML0101ENSkillsNetwork20718538-2022-01-01\">SPSS Modeler</a>\n",
        "\n",
        "Also, you can use Watson Studio to run these notebooks faster with bigger datasets. Watson Studio is IBM's leading cloud solution for data scientists, built by data scientists. With Jupyter notebooks, RStudio, Apache Spark and popular libraries pre-packaged in the cloud, Watson Studio enables data scientists to collaborate on their projects without having to install anything. Join the fast-growing community of Watson Studio users today with a free account at <a href=\"https://www.ibm.com/cloud/watson-studio?utm_medium=Exinfluencer&utm_source=Exinfluencer&utm_content=000026UJ&utm_term=10006555&utm_id=NA-SkillsNetwork-Channel-SkillsNetworkCoursesIBMDeveloperSkillsNetworkML0101ENSkillsNetwork20718538-2022-01-01\">Watson Studio</a>\n"
      ]
    },
    {
      "cell_type": "markdown",
      "metadata": {
        "id": "dZYt3_bjOcSn"
      },
      "source": [
        "### Thank you for completing this lab!\n",
        "\n",
        "## Author\n",
        "\n",
        "Saeed Aghabozorgi\n",
        "\n",
        "### Other Contributors\n",
        "\n",
        "<a href=\"https://www.linkedin.com/in/joseph-s-50398b136/?utm_medium=Exinfluencer&utm_source=Exinfluencer&utm_content=000026UJ&utm_term=10006555&utm_id=NA-SkillsNetwork-Channel-SkillsNetworkCoursesIBMDeveloperSkillsNetworkML0101ENSkillsNetwork20718538-2022-01-01\" target=\"_blank\">Joseph Santarcangelo</a>\n",
        "\n",
        "## Change Log\n",
        "\n",
        "| Date (YYYY-MM-DD) | Version | Changed By | Change Description                                  |\n",
        "| ----------------- | ------- | ---------- | --------------------------------------------------- |\n",
        "| 2021-01-11        | 2.2     | Lakshmi    | Changed distance matrix in agglomerative clustering |\n",
        "| 2020-11-03        | 2.1     | Lakshmi    | Updated URL                                         |\n",
        "| 2020-08-27        | 2.0     | Lavanya    | Moved lab to course repo in GitLab                  |\n",
        "\n",
        "## <h3 align=\"center\"> © IBM Corporation 2020. All rights reserved. <h3/>\n"
      ]
    }
  ],
  "metadata": {
    "kernelspec": {
      "display_name": "Python",
      "language": "python",
      "name": "conda-env-python-py"
    },
    "language_info": {
      "codemirror_mode": {
        "name": "ipython",
        "version": 3
      },
      "file_extension": ".py",
      "mimetype": "text/x-python",
      "name": "python",
      "nbconvert_exporter": "python",
      "pygments_lexer": "ipython3",
      "version": "3.7.12"
    },
    "colab": {
      "name": "ML0101EN-Clus-Hierarchical-Cars.ipynb",
      "provenance": []
    }
  },
  "nbformat": 4,
  "nbformat_minor": 0
}